{
 "cells": [
  {
   "cell_type": "markdown",
   "metadata": {},
   "source": [
    "# Functional Programming"
   ]
  },
  {
   "cell_type": "markdown",
   "metadata": {},
   "source": [
    "1)list comprehension\n",
    "2)Map\n",
    "3)Lambda functions\n",
    "4)Filters\n",
    "5)Reduce\n",
    "6)Iterators\n",
    "7)Generators"
   ]
  },
  {
   "cell_type": "markdown",
   "metadata": {},
   "source": [
    "# Map"
   ]
  },
  {
   "cell_type": "markdown",
   "metadata": {},
   "source": [
    "map is a function python that maps a function with a iterable (list,tuple,dictionary)"
   ]
  },
  {
   "cell_type": "code",
   "execution_count": 1,
   "metadata": {},
   "outputs": [
    {
     "data": {
      "text/plain": [
       "['1', '2', '3', '4']"
      ]
     },
     "execution_count": 1,
     "metadata": {},
     "output_type": "execute_result"
    }
   ],
   "source": [
    "list(map(str,[1,2,3,4]))"
   ]
  },
  {
   "cell_type": "code",
   "execution_count": 2,
   "metadata": {},
   "outputs": [
    {
     "data": {
      "text/plain": [
       "11"
      ]
     },
     "execution_count": 2,
     "metadata": {},
     "output_type": "execute_result"
    }
   ],
   "source": [
    "sum([1,2,3,5])"
   ]
  },
  {
   "cell_type": "markdown",
   "metadata": {},
   "source": [
    "list of factorial for all elements in a range"
   ]
  },
  {
   "cell_type": "code",
   "execution_count": 20,
   "metadata": {},
   "outputs": [
    {
     "data": {
      "text/plain": [
       "[6,\n",
       " 24,\n",
       " 120,\n",
       " 720,\n",
       " 5040,\n",
       " 40320,\n",
       " 362880,\n",
       " 3628800,\n",
       " 39916800,\n",
       " 479001600,\n",
       " 6227020800,\n",
       " 87178291200,\n",
       " 1307674368000]"
      ]
     },
     "execution_count": 20,
     "metadata": {},
     "output_type": "execute_result"
    }
   ],
   "source": [
    "def fact(n):\n",
    "    f=1\n",
    "    while(n>0):\n",
    "        f=f*n\n",
    "        n-=1\n",
    "    return f\n",
    "\n",
    "def factorial_list(li):\n",
    "    f1=[]\n",
    "    for i in li:\n",
    "        f1.append(fact(i))\n",
    "    return f1\n",
    "def factorial_list2(li):\n",
    "    return [fact(i) for i in li]\n",
    "def factorial_list3(li):\n",
    "    return list(map(fact,li))\n",
    "\n",
    "factorial_list3(list(range(3,16)))\n",
    "    "
   ]
  },
  {
   "cell_type": "markdown",
   "metadata": {},
   "source": [
    "# Lambda Functions\n",
    "-Inline functions"
   ]
  },
  {
   "cell_type": "markdown",
   "metadata": {},
   "source": [
    "generate a list of values for all elemnets in a list raised to power y"
   ]
  },
  {
   "cell_type": "markdown",
   "metadata": {},
   "source": [
    "ex:- list(range(1,10)), y=2"
   ]
  },
  {
   "cell_type": "code",
   "execution_count": 22,
   "metadata": {},
   "outputs": [
    {
     "data": {
      "text/plain": [
       "[1,\n",
       " 16,\n",
       " 81,\n",
       " 256,\n",
       " 625,\n",
       " 1296,\n",
       " 2401,\n",
       " 4096,\n",
       " 6561,\n",
       " 10000,\n",
       " 14641,\n",
       " 20736,\n",
       " 28561,\n",
       " 38416,\n",
       " 50625,\n",
       " 65536,\n",
       " 83521,\n",
       " 104976,\n",
       " 130321,\n",
       " 160000,\n",
       " 194481,\n",
       " 234256,\n",
       " 279841,\n",
       " 331776,\n",
       " 390625,\n",
       " 456976,\n",
       " 531441,\n",
       " 614656,\n",
       " 707281,\n",
       " 810000,\n",
       " 923521,\n",
       " 1048576,\n",
       " 1185921,\n",
       " 1336336,\n",
       " 1500625,\n",
       " 1679616,\n",
       " 1874161,\n",
       " 2085136,\n",
       " 2313441,\n",
       " 2560000,\n",
       " 2825761,\n",
       " 3111696,\n",
       " 3418801,\n",
       " 3748096,\n",
       " 4100625,\n",
       " 4477456,\n",
       " 4879681,\n",
       " 5308416,\n",
       " 5764801,\n",
       " 6250000]"
      ]
     },
     "execution_count": 22,
     "metadata": {},
     "output_type": "execute_result"
    }
   ],
   "source": [
    "def list_power(li,y):\n",
    "    pl=[]\n",
    "    for i in li:\n",
    "        pl.append(i**y)\n",
    "    return pl\n",
    "\n",
    "def list_power1(li,y):\n",
    "    return [i**y for i in li]\n",
    "\n",
    "def list_power2(li,y):\n",
    "    return list(map(lambda x:x**y,li))\n",
    "\n",
    "list_power2(list(range(1,51)),4)"
   ]
  },
  {
   "cell_type": "markdown",
   "metadata": {},
   "source": [
    "Raise every element in list1 to the coresspondding list2"
   ]
  },
  {
   "cell_type": "code",
   "execution_count": 27,
   "metadata": {},
   "outputs": [
    {
     "ename": "SyntaxError",
     "evalue": "invalid syntax (<ipython-input-27-814dd3a32ea7>, line 5)",
     "output_type": "error",
     "traceback": [
      "\u001b[1;36m  File \u001b[1;32m\"<ipython-input-27-814dd3a32ea7>\"\u001b[1;36m, line \u001b[1;32m5\u001b[0m\n\u001b[1;33m    return [x**y for x,y in li1,li2]\u001b[0m\n\u001b[1;37m                               ^\u001b[0m\n\u001b[1;31mSyntaxError\u001b[0m\u001b[1;31m:\u001b[0m invalid syntax\n"
     ]
    }
   ],
   "source": [
    "def powerlists(li1,li2):\n",
    "    return list(map(lambda i,j:i**j,li1,li2))\n",
    "\n",
    "def powerlists1(li1,li2):\n",
    "    return [x**y for x,y in li1,li2]\n",
    "\n",
    "powerlists1([1,2,3,4],[8,9,10,11])"
   ]
  },
  {
   "cell_type": "code",
   "execution_count": null,
   "metadata": {},
   "outputs": [],
   "source": []
  },
  {
   "cell_type": "code",
   "execution_count": null,
   "metadata": {},
   "outputs": [],
   "source": []
  }
 ],
 "metadata": {
  "kernelspec": {
   "display_name": "Python 3",
   "language": "python",
   "name": "python3"
  },
  "language_info": {
   "codemirror_mode": {
    "name": "ipython",
    "version": 3
   },
   "file_extension": ".py",
   "mimetype": "text/x-python",
   "name": "python",
   "nbconvert_exporter": "python",
   "pygments_lexer": "ipython3",
   "version": "3.7.6"
  }
 },
 "nbformat": 4,
 "nbformat_minor": 4
}

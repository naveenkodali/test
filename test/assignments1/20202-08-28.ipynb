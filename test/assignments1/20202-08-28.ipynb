{
 "cells": [
  {
   "cell_type": "markdown",
   "metadata": {},
   "source": [
    "#                                       # Problem Set - 20200828"
   ]
  },
  {
   "cell_type": "markdown",
   "metadata": {},
   "source": [
    "# Problem statement-1"
   ]
  },
  {
   "cell_type": "markdown",
   "metadata": {},
   "source": [
    "Function to print all numbers divisible by 6 and not a factor of 100 in a given range(lb, ub) inclusive\n"
   ]
  },
  {
   "cell_type": "code",
   "execution_count": 2,
   "metadata": {},
   "outputs": [
    {
     "data": {
      "text/plain": [
       "[6, 12, 18, 24, 30, 36, 42, 48, 54, 60, 66, 72, 78, 84, 90, 96]"
      ]
     },
     "execution_count": 2,
     "metadata": {},
     "output_type": "execute_result"
    }
   ],
   "source": [
    "def div_by_6(lb,ub):\n",
    "    nav=[]\n",
    "    for i in range(lb,ub+1):\n",
    "        if (i%6==0)and (100%i!=0):\n",
    "            nav=nav+[i]\n",
    "    return nav\n",
    "\n",
    "div_by_6(2,100)\n",
    "    \n",
    "        "
   ]
  },
  {
   "cell_type": "markdown",
   "metadata": {},
   "source": [
    "# Problem statement-2"
   ]
  },
  {
   "cell_type": "markdown",
   "metadata": {},
   "source": [
    "Function to find the average of cubes of all even numbers in a given range(lb, ub) inclusive\n"
   ]
  },
  {
   "cell_type": "code",
   "execution_count": 3,
   "metadata": {},
   "outputs": [
    {
     "data": {
      "text/plain": [
       "260100.0"
      ]
     },
     "execution_count": 3,
     "metadata": {},
     "output_type": "execute_result"
    }
   ],
   "source": [
    "def cubes_even_num(lb,ub):\n",
    "    nav=[]\n",
    "    for i in range(lb,ub+1):\n",
    "        if(i%2==0):\n",
    "            nav=nav+[i**3]\n",
    "    return sum(nav)/len(nav)\n",
    "cubes_even_num(1,100)\n",
    "    "
   ]
  },
  {
   "cell_type": "markdown",
   "metadata": {},
   "source": [
    "# Problem statement-3"
   ]
  },
  {
   "cell_type": "markdown",
   "metadata": {},
   "source": [
    "Function to generate the list of factors for a given number\n"
   ]
  },
  {
   "cell_type": "code",
   "execution_count": 4,
   "metadata": {},
   "outputs": [
    {
     "data": {
      "text/plain": [
       "[1, 2, 4, 5, 10, 20, 25, 50]"
      ]
     },
     "execution_count": 4,
     "metadata": {},
     "output_type": "execute_result"
    }
   ],
   "source": [
    "def fact_given_num(n):\n",
    "    nav=[]\n",
    "    for i in range(1,n//2+1):\n",
    "        if(n%i==0):\n",
    "            nav=nav+[i]\n",
    "    return nav\n",
    "fact_given_num(100)\n",
    "\n",
    "        "
   ]
  },
  {
   "cell_type": "markdown",
   "metadata": {},
   "source": [
    "# Problem statement-4"
   ]
  },
  {
   "cell_type": "markdown",
   "metadata": {},
   "source": [
    "Function to calculate the factorial of a given number"
   ]
  },
  {
   "cell_type": "code",
   "execution_count": 5,
   "metadata": {},
   "outputs": [
    {
     "data": {
      "text/plain": [
       "5040"
      ]
     },
     "execution_count": 5,
     "metadata": {},
     "output_type": "execute_result"
    }
   ],
   "source": [
    "def factorial_given_num(n):\n",
    "    fact=1\n",
    "    while(n>0):\n",
    "        fact=fact*n\n",
    "        n=n-1\n",
    "    return fact\n",
    "factorial_given_num(7)"
   ]
  },
  {
   "cell_type": "markdown",
   "metadata": {},
   "source": [
    "# Problem statement-5"
   ]
  },
  {
   "cell_type": "markdown",
   "metadata": {},
   "source": [
    "Function to check if a given number is Prime\n"
   ]
  },
  {
   "cell_type": "code",
   "execution_count": 6,
   "metadata": {},
   "outputs": [
    {
     "data": {
      "text/plain": [
       "True"
      ]
     },
     "execution_count": 6,
     "metadata": {},
     "output_type": "execute_result"
    }
   ],
   "source": [
    "def prime_or_not(n):\n",
    "    count=0\n",
    "    for i in range(2,n+1):\n",
    "        if(n%i==0):\n",
    "            count+=1\n",
    "        if(count>1):\n",
    "            return False\n",
    "    return True\n",
    "prime_or_not(29)"
   ]
  },
  {
   "cell_type": "markdown",
   "metadata": {},
   "source": [
    "# Problem statement-6"
   ]
  },
  {
   "cell_type": "markdown",
   "metadata": {},
   "source": [
    "Function to calculate the average first N Prime numbers\n"
   ]
  },
  {
   "cell_type": "code",
   "execution_count": 7,
   "metadata": {},
   "outputs": [
    {
     "data": {
      "text/plain": [
       "42.4"
      ]
     },
     "execution_count": 7,
     "metadata": {},
     "output_type": "execute_result"
    }
   ],
   "source": [
    "def prime_num_in_range(n):\n",
    "    c=0;\n",
    "    start=2\n",
    "    sum=0\n",
    "    while(c!=n):\n",
    "        if prime_or_not(start):\n",
    "            c+=1\n",
    "            sum+=start\n",
    "            start+=1\n",
    "        else:\n",
    "            start+=1\n",
    "    return sum/n\n",
    "            \n",
    "prime_num_in_range(25) \n",
    "    "
   ]
  },
  {
   "cell_type": "markdown",
   "metadata": {},
   "source": [
    "# Problem statement-7"
   ]
  },
  {
   "cell_type": "markdown",
   "metadata": {},
   "source": [
    "Function to generate all Perfect numbers in a given range\n"
   ]
  },
  {
   "cell_type": "code",
   "execution_count": 8,
   "metadata": {},
   "outputs": [
    {
     "data": {
      "text/plain": [
       "[6, 28, 496]"
      ]
     },
     "execution_count": 8,
     "metadata": {},
     "output_type": "execute_result"
    }
   ],
   "source": [
    "def perfect_num_or_not(lb,ub):\n",
    "    nav=[]\n",
    "    for i in range(lb,ub+1):\n",
    "        if sum(fact_given_num(i))==i:\n",
    "            nav+=[i]\n",
    "    return nav\n",
    "perfect_num_or_not(1,1000)\n",
    "        "
   ]
  },
  {
   "cell_type": "markdown",
   "metadata": {},
   "source": [
    "# ADVANCED PROBLEM SET"
   ]
  },
  {
   "cell_type": "markdown",
   "metadata": {},
   "source": [
    "# Problem-8.1"
   ]
  },
  {
   "cell_type": "markdown",
   "metadata": {},
   "source": [
    "Function to calculate average of all factorials in a given range\n"
   ]
  },
  {
   "cell_type": "code",
   "execution_count": 9,
   "metadata": {},
   "outputs": [
    {
     "data": {
      "text/plain": [
       "145.5"
      ]
     },
     "execution_count": 9,
     "metadata": {},
     "output_type": "execute_result"
    }
   ],
   "source": [
    "def avg_fact_in_range(lb,ub):\n",
    "    sum=0\n",
    "    for i in range(lb,ub+1):\n",
    "        sum+=factorial_given_num(i)\n",
    "    return sum/((ub-lb)+1)\n",
    "avg_fact_in_range(1,6)"
   ]
  },
  {
   "cell_type": "markdown",
   "metadata": {},
   "source": [
    "# Problem-8.2"
   ]
  },
  {
   "cell_type": "markdown",
   "metadata": {},
   "source": [
    "Function to generate N odd narcissistic numbers "
   ]
  },
  {
   "cell_type": "code",
   "execution_count": 10,
   "metadata": {},
   "outputs": [
    {
     "data": {
      "text/plain": [
       "[1, 3, 5, 7, 9, 153, 371, 407, 92727, 1741725]"
      ]
     },
     "execution_count": 10,
     "metadata": {},
     "output_type": "execute_result"
    }
   ],
   "source": [
    "def n_odd_narcissistic(n):\n",
    "    c=0\n",
    "    nav=[]\n",
    "    start=1\n",
    "    while(c!=n):\n",
    "        a_str=str(start)\n",
    "        length=len(a_str)\n",
    "        num=start\n",
    "        summ=0\n",
    "        for i in range(1,length+1):\n",
    "            rem=num%10\n",
    "            summ=summ+rem**length\n",
    "            num=num//10\n",
    "            if(summ>start):\n",
    "                break\n",
    "        if(summ==start):\n",
    "            nav=nav+[start]\n",
    "            c+=1\n",
    "        start+=2\n",
    "    return nav\n",
    "n_odd_narcissistic(10)"
   ]
  },
  {
   "cell_type": "markdown",
   "metadata": {},
   "source": [
    "# Problem-8.3"
   ]
  },
  {
   "cell_type": "markdown",
   "metadata": {},
   "source": [
    "Function to generate Multiplication table for a number in a given range\n",
    "10 in the range(100, 102) inclusive\n",
    "10 x 100 = 1000\n",
    "10 x 101 = 1010\n",
    "10 x 102 = 1020\n"
   ]
  },
  {
   "cell_type": "code",
   "execution_count": 17,
   "metadata": {},
   "outputs": [
    {
     "name": "stdout",
     "output_type": "stream",
     "text": [
      "450 x 100 = 45000\n",
      "450 x 101 = 45450\n",
      "450 x 102 = 45900\n"
     ]
    }
   ],
   "source": [
    "def mult_table(num,lb,ub):\n",
    "    for i in range(lb,ub+1):\n",
    "        print(num,'x',i,'=',num*i)\n",
    "mult_table(450,100,102)"
   ]
  },
  {
   "cell_type": "markdown",
   "metadata": {},
   "source": [
    "# Problem-8.4"
   ]
  },
  {
   "cell_type": "markdown",
   "metadata": {},
   "source": [
    "Function to generate N odd armstrong numbers "
   ]
  },
  {
   "cell_type": "code",
   "execution_count": 14,
   "metadata": {},
   "outputs": [
    {
     "data": {
      "text/plain": [
       "[153, 371, 407]"
      ]
     },
     "execution_count": 14,
     "metadata": {},
     "output_type": "execute_result"
    }
   ],
   "source": [
    "def n_odd_armstrong(n):\n",
    "    c=0\n",
    "    start=101\n",
    "    nav=[]\n",
    "    while(c!=n and start<=999):\n",
    "        num=start\n",
    "        summ=0\n",
    "        for i in range(1,4):\n",
    "            rem=num%10\n",
    "            summ+=rem**3\n",
    "            num=num//10\n",
    "        if(summ==start):\n",
    "            nav.append(start)\n",
    "            c+=1\n",
    "        start+=2\n",
    "    return nav\n",
    "n_odd_armstrong(67)"
   ]
  },
  {
   "cell_type": "markdown",
   "metadata": {},
   "source": [
    "# Problem-8.5"
   ]
  },
  {
   "cell_type": "markdown",
   "metadata": {},
   "source": [
    "Generate all Narcissistic Numbers in a given range of numbers.\n"
   ]
  },
  {
   "cell_type": "code",
   "execution_count": 24,
   "metadata": {},
   "outputs": [
    {
     "data": {
      "text/plain": [
       "[1, 2, 3, 4, 5, 6, 7, 8, 9, 153, 370, 371, 407, 1634, 8208, 9474]"
      ]
     },
     "execution_count": 24,
     "metadata": {},
     "output_type": "execute_result"
    }
   ],
   "source": [
    "def narcissitic_in_given_range(lb,ub):\n",
    "    nav=[]\n",
    "    for i in range(lb,ub+1):\n",
    "        ln=len(str(i))\n",
    "        summ=0\n",
    "        num=i\n",
    "        for j in range(1,ln+1):\n",
    "            rem=num%10\n",
    "            summ+=rem**ln\n",
    "            num=num//10\n",
    "            if(summ>i):\n",
    "                break\n",
    "        if(summ==i):\n",
    "            nav.append(i)\n",
    "    return nav\n",
    "narcissitic_in_given_range(1,10000)\n",
    "            \n",
    "            \n",
    "            "
   ]
  },
  {
   "cell_type": "code",
   "execution_count": null,
   "metadata": {},
   "outputs": [],
   "source": []
  }
 ],
 "metadata": {
  "kernelspec": {
   "display_name": "Python 3",
   "language": "python",
   "name": "python3"
  },
  "language_info": {
   "codemirror_mode": {
    "name": "ipython",
    "version": 3
   },
   "file_extension": ".py",
   "mimetype": "text/x-python",
   "name": "python",
   "nbconvert_exporter": "python",
   "pygments_lexer": "ipython3",
   "version": "3.7.6"
  }
 },
 "nbformat": 4,
 "nbformat_minor": 4
}
